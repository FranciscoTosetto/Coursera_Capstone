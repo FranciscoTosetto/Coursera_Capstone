{
 "cells": [
  {
   "cell_type": "markdown",
   "metadata": {},
   "source": [
    "# <div style=\"text-align: center\"> 10 Canada's Cities Top 10 Most Common Types of Food Venues/Restaurants and Population Origins</div> \n",
    "<div style=\"text-align: center\">A Data Analysis on The Food Scenery and It's Relation to Population Origins.</div>\n",
    "\n"
   ]
  },
  {
   "cell_type": "markdown",
   "metadata": {},
   "source": [
    "<div style=\"text-align: center\">Capstone Project of the IBM Data Science Professional Certificate</div>"
   ]
  },
  {
   "cell_type": "markdown",
   "metadata": {},
   "source": [
    "<div style=\"text-align: center\">Francisco Tosetto da Silva</div>"
   ]
  },
  {
   "cell_type": "markdown",
   "metadata": {},
   "source": [
    "  "
   ]
  },
  {
   "cell_type": "markdown",
   "metadata": {},
   "source": [
    "<a href=\"https://foursquare.com\"><img style=\"float: right;\" src=\"powered-by-foursquare-blue.png\" alt=\"drawing\" width=\"200\"/></a>"
   ]
  },
  {
   "cell_type": "markdown",
   "metadata": {},
   "source": [
    "-------------------------------------"
   ]
  },
  {
   "cell_type": "markdown",
   "metadata": {},
   "source": [
    "## Introduction"
   ]
  },
  {
   "cell_type": "markdown",
   "metadata": {},
   "source": [
    "<div style=\"text-align: justify\">You, entrepreneur / business person that is looking for a insight of a city food scenery and preferences, traveler searching for the most typical and prevalent type of food venues on his destination, that is simply interested in the subject wanting to know more, this analysis looks into the types of food venues in 10 large cities in Canada, comparing the results with their population origins.</div>"
   ]
  },
  {
   "cell_type": "markdown",
   "metadata": {},
   "source": [
    "<div style=\"text-align: justify\">This analysis finds the top 10 most frequent types of food venues from 10 Canadian cities. To find out which types are predominant in each place we look into 2581 total food venues from these cities and see which types are more common. We also make an analysis on the population origins data to reveal if there is an influence on the food scenery of these places and market opportunities for food venues on those cities.</div>\n",
    "\n",
    "  ------------\n",
    "  "
   ]
  },
  {
   "cell_type": "markdown",
   "metadata": {},
   "source": [
    "## Data"
   ]
  },
  {
   "cell_type": "markdown",
   "metadata": {},
   "source": [
    "<div style=\"text-align: justify\">The following describe the data utilized for this study.</div>\n",
    "\n",
    "-------------------------------"
   ]
  },
  {
   "cell_type": "markdown",
   "metadata": {},
   "source": [
    "\n",
    "#### Cities and Venues Data \n",
    "\n",
    "This analysis utilyzes data from the free Foursquare Developer [Places API](https://developer.foursquare.com/) and the Canadian Government website for the [Canadian Census Program](https://www12.statcan.gc.ca/census-recensement/index-eng.cfm)."
   ]
  },
  {
   "cell_type": "markdown",
   "metadata": {},
   "source": [
    "<div style=\"text-align: justify\">Using the Geopy library we retrive the 10 largest cities by population in Canada locations, according to the 2016 Canadian Census, with at least 100km in distance between each other.</div>"
   ]
  },
  {
   "cell_type": "markdown",
   "metadata": {},
   "source": [
    "<div style=\"text-align: justify\">With that we used the Foursquare API to retrieve food venues from these cities.</div>"
   ]
  },
  {
   "cell_type": "markdown",
   "metadata": {},
   "source": [
    "<div style=\"text-align: justify\">We got 2581 total venues from these cities, the following was the number of venues for each city:</div>"
   ]
  },
  {
   "cell_type": "markdown",
   "metadata": {},
   "source": [
    "\n",
    "| City | Venues |\n",
    "|-----------|---------|\n",
    "| Montreal     |  446 |\n",
    "| Vancouver    |  329 |\n",
    "| Calgary      |  282 |\n",
    "| Toronto      |  268 |\n",
    "| Winnipeg     |  258 |\n",
    "| Edmonton     |  250 |\n",
    "| Quebec City  |  224 |\n",
    "| Ottawa       |  188 |\n",
    "| Halifax      |  175 |\n",
    "| London       |  161 | \n"
   ]
  },
  {
   "cell_type": "markdown",
   "metadata": {},
   "source": [
    "\n",
    "<a href=\"https://foursquare.com\"><img style=\"float: right;\" src=\"http://oi67.tinypic.com/n3olxu.jpg\" alt=\"drawing\" width=\"200\"/></a>\n",
    "\n",
    "-----------------------\n",
    "\n",
    "#### Population Origins Data\n",
    "<div style=\"text-align: justify\">From the Canadian Government's website we got data from the Canadian 2016 Census on each of these cities Population Origins.</div>\n",
    "\n",
    "  ----------------"
   ]
  },
  {
   "cell_type": "markdown",
   "metadata": {},
   "source": [
    "## Methodology\n",
    "\n",
    "<div style=\"text-align: justify\">For the Data Analysis, we transformed the appearance of venue categories in one hot coding, and got the mean of each category appearance in each city.</div>\n"
   ]
  },
  {
   "cell_type": "markdown",
   "metadata": {},
   "source": [
    "<div style=\"text-align: justify\">On the population origins data we removed the generalized origins leaving only the more specific. Removing \"British Isles\" and leaving \"English, Scottish\" etc, for example. Then calculating the means of each origin in each city.</div>"
   ]
  },
  {
   "cell_type": "markdown",
   "metadata": {},
   "source": [
    "<div style=\"text-align: justify\">So both food venues and population origins where calculated with percentages to their own totals, and not just quantity, that way we do not suffer, as an example, the risk of a city with a stronger percentage of a specific origin lose strength to another just by means of quantity.</div>"
   ]
  },
  {
   "cell_type": "markdown",
   "metadata": {},
   "source": [
    "<div style=\"text-align: justify\">Then we utilized Machine Learning K-means Clustering to both datas, to cluster cities in relation to their Food Venues and to their Population Origins to see if there was any relation and resemblance between them, if cities in the same cluster in one dataframe would pertain to a same cluster in the other dataframe and the strength of their population origins on the restaurant scenery.</div>"
   ]
  },
  {
   "cell_type": "markdown",
   "metadata": {},
   "source": [
    "<div style=\"text-align: justify\">The results from clustering the dataframes in with K-means can be seen in this table:</div>"
   ]
  },
  {
   "cell_type": "code",
   "execution_count": 11,
   "metadata": {},
   "outputs": [
    {
     "data": {
      "text/html": [
       "<div>\n",
       "<style scoped>\n",
       "    .dataframe tbody tr th:only-of-type {\n",
       "        vertical-align: middle;\n",
       "    }\n",
       "\n",
       "    .dataframe tbody tr th {\n",
       "        vertical-align: top;\n",
       "    }\n",
       "\n",
       "    .dataframe thead th {\n",
       "        text-align: right;\n",
       "    }\n",
       "</style>\n",
       "<table border=\"1\" class=\"dataframe\">\n",
       "  <thead>\n",
       "    <tr style=\"text-align: right;\">\n",
       "      <th></th>\n",
       "      <th>Population Origins Cluster Labels</th>\n",
       "      <th>Food Venues Cluster Labels</th>\n",
       "    </tr>\n",
       "    <tr>\n",
       "      <th>City</th>\n",
       "      <th></th>\n",
       "      <th></th>\n",
       "    </tr>\n",
       "  </thead>\n",
       "  <tbody>\n",
       "    <tr>\n",
       "      <th>Montreal</th>\n",
       "      <td>0</td>\n",
       "      <td>0</td>\n",
       "    </tr>\n",
       "    <tr>\n",
       "      <th>Quebec City</th>\n",
       "      <td>0</td>\n",
       "      <td>2</td>\n",
       "    </tr>\n",
       "    <tr>\n",
       "      <th>Calgary</th>\n",
       "      <td>1</td>\n",
       "      <td>3</td>\n",
       "    </tr>\n",
       "    <tr>\n",
       "      <th>Edmonton</th>\n",
       "      <td>1</td>\n",
       "      <td>3</td>\n",
       "    </tr>\n",
       "    <tr>\n",
       "      <th>Winnipeg</th>\n",
       "      <td>1</td>\n",
       "      <td>3</td>\n",
       "    </tr>\n",
       "    <tr>\n",
       "      <th>Halifax</th>\n",
       "      <td>2</td>\n",
       "      <td>1</td>\n",
       "    </tr>\n",
       "    <tr>\n",
       "      <th>Ottawa</th>\n",
       "      <td>2</td>\n",
       "      <td>0</td>\n",
       "    </tr>\n",
       "    <tr>\n",
       "      <th>London</th>\n",
       "      <td>2</td>\n",
       "      <td>3</td>\n",
       "    </tr>\n",
       "    <tr>\n",
       "      <th>Toronto</th>\n",
       "      <td>3</td>\n",
       "      <td>1</td>\n",
       "    </tr>\n",
       "    <tr>\n",
       "      <th>Vancouver</th>\n",
       "      <td>3</td>\n",
       "      <td>1</td>\n",
       "    </tr>\n",
       "  </tbody>\n",
       "</table>\n",
       "</div>"
      ],
      "text/plain": [
       "             Population Origins Cluster Labels  Food Venues Cluster Labels\n",
       "City                                                                      \n",
       "Montreal                                     0                           0\n",
       "Quebec City                                  0                           2\n",
       "Calgary                                      1                           3\n",
       "Edmonton                                     1                           3\n",
       "Winnipeg                                     1                           3\n",
       "Halifax                                      2                           1\n",
       "Ottawa                                       2                           0\n",
       "London                                       2                           3\n",
       "Toronto                                      3                           1\n",
       "Vancouver                                    3                           1"
      ]
     },
     "execution_count": 11,
     "metadata": {},
     "output_type": "execute_result"
    }
   ],
   "source": [
    "import pandas as pd\n",
    "cluster = pd.read_csv('Df_can_clusters.csv')\n",
    "cluster.set_index('City', inplace = True)\n",
    "cluster"
   ]
  },
  {
   "cell_type": "markdown",
   "metadata": {},
   "source": [
    "<a href=\"https://foursquare.com\"><img style=\"float: right;\" src=\"http://oi67.tinypic.com/n3olxu.jpg\" alt=\"drawing\" width=\"200\"/></a>"
   ]
  },
  {
   "cell_type": "markdown",
   "metadata": {},
   "source": [
    "<div style=\"text-align: justify\">First let's address the numbers of the cluster groups.</div>"
   ]
  },
  {
   "cell_type": "markdown",
   "metadata": {},
   "source": [
    "<div style=\"text-align: justify\">The specific numbers between columns is not of importance, what must be seen is if they are in the same number in both columns, and which are the difference between groups in each specific column.</div>"
   ]
  },
  {
   "cell_type": "markdown",
   "metadata": {},
   "source": [
    "<div style=\"text-align: justify\">For example, Toronto and Vancouver are in the same group in both columns, that appoints to similar food scenery and population origins.</div>"
   ]
  },
  {
   "cell_type": "markdown",
   "metadata": {},
   "source": [
    "<div style=\"text-align: justify\">The next table shows the Food Venues Clusters along with the most common food venues in each city (for this table we have removed categories like \"Restaurant\" because their generic title cannot be related to the population origins).</div>"
   ]
  },
  {
   "cell_type": "code",
   "execution_count": 14,
   "metadata": {},
   "outputs": [
    {
     "data": {
      "text/html": [
       "<div>\n",
       "<style scoped>\n",
       "    .dataframe tbody tr th:only-of-type {\n",
       "        vertical-align: middle;\n",
       "    }\n",
       "\n",
       "    .dataframe tbody tr th {\n",
       "        vertical-align: top;\n",
       "    }\n",
       "\n",
       "    .dataframe thead th {\n",
       "        text-align: right;\n",
       "    }\n",
       "</style>\n",
       "<table border=\"1\" class=\"dataframe\">\n",
       "  <thead>\n",
       "    <tr style=\"text-align: right;\">\n",
       "      <th></th>\n",
       "      <th>Food Venues Cluster Labels</th>\n",
       "      <th>1st Most Common Food Venue</th>\n",
       "      <th>2nd Most Common Food Venue</th>\n",
       "      <th>3rd Most Common Food Venue</th>\n",
       "      <th>4th Most Common Food Venue</th>\n",
       "      <th>5th Most Common Food Venue</th>\n",
       "      <th>6th Most Common Food Venue</th>\n",
       "      <th>7th Most Common Food Venue</th>\n",
       "      <th>8th Most Common Food Venue</th>\n",
       "      <th>9th Most Common Food Venue</th>\n",
       "      <th>10th Most Common Food Venue</th>\n",
       "    </tr>\n",
       "    <tr>\n",
       "      <th>City</th>\n",
       "      <th></th>\n",
       "      <th></th>\n",
       "      <th></th>\n",
       "      <th></th>\n",
       "      <th></th>\n",
       "      <th></th>\n",
       "      <th></th>\n",
       "      <th></th>\n",
       "      <th></th>\n",
       "      <th></th>\n",
       "      <th></th>\n",
       "    </tr>\n",
       "  </thead>\n",
       "  <tbody>\n",
       "    <tr>\n",
       "      <th>Montreal</th>\n",
       "      <td>0</td>\n",
       "      <td>French Restaurant</td>\n",
       "      <td>Pizza Place</td>\n",
       "      <td>Japanese Restaurant</td>\n",
       "      <td>Vietnamese Restaurant</td>\n",
       "      <td>Indian Restaurant</td>\n",
       "      <td>Middle Eastern Restaurant</td>\n",
       "      <td>Fast Food Restaurant</td>\n",
       "      <td>Italian Restaurant</td>\n",
       "      <td>Sushi Restaurant</td>\n",
       "      <td>Chinese Restaurant</td>\n",
       "    </tr>\n",
       "    <tr>\n",
       "      <th>Ottawa</th>\n",
       "      <td>0</td>\n",
       "      <td>Vietnamese Restaurant</td>\n",
       "      <td>Pizza Place</td>\n",
       "      <td>Indian Restaurant</td>\n",
       "      <td>Tapas Restaurant</td>\n",
       "      <td>Italian Restaurant</td>\n",
       "      <td>Sushi Restaurant</td>\n",
       "      <td>New American Restaurant</td>\n",
       "      <td>Middle Eastern Restaurant</td>\n",
       "      <td>Mexican Restaurant</td>\n",
       "      <td>Chinese Restaurant</td>\n",
       "    </tr>\n",
       "    <tr>\n",
       "      <th>Halifax</th>\n",
       "      <td>1</td>\n",
       "      <td>Pizza Place</td>\n",
       "      <td>Seafood Restaurant</td>\n",
       "      <td>Italian Restaurant</td>\n",
       "      <td>Sushi Restaurant</td>\n",
       "      <td>Chinese Restaurant</td>\n",
       "      <td>Japanese Restaurant</td>\n",
       "      <td>Burger Joint</td>\n",
       "      <td>Steakhouse</td>\n",
       "      <td>Gastropub</td>\n",
       "      <td>Diner</td>\n",
       "    </tr>\n",
       "    <tr>\n",
       "      <th>Toronto</th>\n",
       "      <td>1</td>\n",
       "      <td>Italian Restaurant</td>\n",
       "      <td>Japanese Restaurant</td>\n",
       "      <td>Gastropub</td>\n",
       "      <td>Sushi Restaurant</td>\n",
       "      <td>French Restaurant</td>\n",
       "      <td>Pizza Place</td>\n",
       "      <td>American Restaurant</td>\n",
       "      <td>Mexican Restaurant</td>\n",
       "      <td>Steakhouse</td>\n",
       "      <td>Diner</td>\n",
       "    </tr>\n",
       "    <tr>\n",
       "      <th>Vancouver</th>\n",
       "      <td>1</td>\n",
       "      <td>Japanese Restaurant</td>\n",
       "      <td>Sushi Restaurant</td>\n",
       "      <td>Pizza Place</td>\n",
       "      <td>Seafood Restaurant</td>\n",
       "      <td>Chinese Restaurant</td>\n",
       "      <td>Vietnamese Restaurant</td>\n",
       "      <td>Indian Restaurant</td>\n",
       "      <td>Italian Restaurant</td>\n",
       "      <td>French Restaurant</td>\n",
       "      <td>Gastropub</td>\n",
       "    </tr>\n",
       "    <tr>\n",
       "      <th>Quebec City</th>\n",
       "      <td>2</td>\n",
       "      <td>French Restaurant</td>\n",
       "      <td>Pizza Place</td>\n",
       "      <td>Italian Restaurant</td>\n",
       "      <td>Gastropub</td>\n",
       "      <td>Fast Food Restaurant</td>\n",
       "      <td>Bistro</td>\n",
       "      <td>Asian Restaurant</td>\n",
       "      <td>Thai Restaurant</td>\n",
       "      <td>Sushi Restaurant</td>\n",
       "      <td>Steakhouse</td>\n",
       "    </tr>\n",
       "    <tr>\n",
       "      <th>Calgary</th>\n",
       "      <td>3</td>\n",
       "      <td>Vietnamese Restaurant</td>\n",
       "      <td>Pizza Place</td>\n",
       "      <td>Italian Restaurant</td>\n",
       "      <td>American Restaurant</td>\n",
       "      <td>Sushi Restaurant</td>\n",
       "      <td>Chinese Restaurant</td>\n",
       "      <td>Mexican Restaurant</td>\n",
       "      <td>Steakhouse</td>\n",
       "      <td>Diner</td>\n",
       "      <td>Burger Joint</td>\n",
       "    </tr>\n",
       "    <tr>\n",
       "      <th>Edmonton</th>\n",
       "      <td>3</td>\n",
       "      <td>Chinese Restaurant</td>\n",
       "      <td>Italian Restaurant</td>\n",
       "      <td>Vietnamese Restaurant</td>\n",
       "      <td>Pizza Place</td>\n",
       "      <td>Mexican Restaurant</td>\n",
       "      <td>Thai Restaurant</td>\n",
       "      <td>Gastropub</td>\n",
       "      <td>Asian Restaurant</td>\n",
       "      <td>BBQ Joint</td>\n",
       "      <td>Korean Restaurant</td>\n",
       "    </tr>\n",
       "    <tr>\n",
       "      <th>London</th>\n",
       "      <td>3</td>\n",
       "      <td>Pizza Place</td>\n",
       "      <td>Sushi Restaurant</td>\n",
       "      <td>Middle Eastern Restaurant</td>\n",
       "      <td>Italian Restaurant</td>\n",
       "      <td>Mexican Restaurant</td>\n",
       "      <td>American Restaurant</td>\n",
       "      <td>Indian Restaurant</td>\n",
       "      <td>Chinese Restaurant</td>\n",
       "      <td>Thai Restaurant</td>\n",
       "      <td>Asian Restaurant</td>\n",
       "    </tr>\n",
       "    <tr>\n",
       "      <th>Winnipeg</th>\n",
       "      <td>3</td>\n",
       "      <td>Sushi Restaurant</td>\n",
       "      <td>Asian Restaurant</td>\n",
       "      <td>Pizza Place</td>\n",
       "      <td>Burger Joint</td>\n",
       "      <td>Chinese Restaurant</td>\n",
       "      <td>American Restaurant</td>\n",
       "      <td>Italian Restaurant</td>\n",
       "      <td>Vietnamese Restaurant</td>\n",
       "      <td>French Restaurant</td>\n",
       "      <td>Greek Restaurant</td>\n",
       "    </tr>\n",
       "  </tbody>\n",
       "</table>\n",
       "</div>"
      ],
      "text/plain": [
       "             Food Venues Cluster Labels 1st Most Common Food Venue  \\\n",
       "City                                                                 \n",
       "Montreal                              0          French Restaurant   \n",
       "Ottawa                                0      Vietnamese Restaurant   \n",
       "Halifax                               1                Pizza Place   \n",
       "Toronto                               1         Italian Restaurant   \n",
       "Vancouver                             1        Japanese Restaurant   \n",
       "Quebec City                           2          French Restaurant   \n",
       "Calgary                               3      Vietnamese Restaurant   \n",
       "Edmonton                              3         Chinese Restaurant   \n",
       "London                                3                Pizza Place   \n",
       "Winnipeg                              3           Sushi Restaurant   \n",
       "\n",
       "            2nd Most Common Food Venue 3rd Most Common Food Venue  \\\n",
       "City                                                                \n",
       "Montreal                   Pizza Place        Japanese Restaurant   \n",
       "Ottawa                     Pizza Place          Indian Restaurant   \n",
       "Halifax             Seafood Restaurant         Italian Restaurant   \n",
       "Toronto            Japanese Restaurant                  Gastropub   \n",
       "Vancouver             Sushi Restaurant                Pizza Place   \n",
       "Quebec City                Pizza Place         Italian Restaurant   \n",
       "Calgary                    Pizza Place         Italian Restaurant   \n",
       "Edmonton            Italian Restaurant      Vietnamese Restaurant   \n",
       "London                Sushi Restaurant  Middle Eastern Restaurant   \n",
       "Winnipeg              Asian Restaurant                Pizza Place   \n",
       "\n",
       "            4th Most Common Food Venue 5th Most Common Food Venue  \\\n",
       "City                                                                \n",
       "Montreal         Vietnamese Restaurant          Indian Restaurant   \n",
       "Ottawa                Tapas Restaurant         Italian Restaurant   \n",
       "Halifax               Sushi Restaurant         Chinese Restaurant   \n",
       "Toronto               Sushi Restaurant          French Restaurant   \n",
       "Vancouver           Seafood Restaurant         Chinese Restaurant   \n",
       "Quebec City                  Gastropub       Fast Food Restaurant   \n",
       "Calgary            American Restaurant           Sushi Restaurant   \n",
       "Edmonton                   Pizza Place         Mexican Restaurant   \n",
       "London              Italian Restaurant         Mexican Restaurant   \n",
       "Winnipeg                  Burger Joint         Chinese Restaurant   \n",
       "\n",
       "            6th Most Common Food Venue 7th Most Common Food Venue  \\\n",
       "City                                                                \n",
       "Montreal     Middle Eastern Restaurant       Fast Food Restaurant   \n",
       "Ottawa                Sushi Restaurant    New American Restaurant   \n",
       "Halifax            Japanese Restaurant               Burger Joint   \n",
       "Toronto                    Pizza Place        American Restaurant   \n",
       "Vancouver        Vietnamese Restaurant          Indian Restaurant   \n",
       "Quebec City                     Bistro           Asian Restaurant   \n",
       "Calgary             Chinese Restaurant         Mexican Restaurant   \n",
       "Edmonton               Thai Restaurant                  Gastropub   \n",
       "London             American Restaurant          Indian Restaurant   \n",
       "Winnipeg           American Restaurant         Italian Restaurant   \n",
       "\n",
       "            8th Most Common Food Venue 9th Most Common Food Venue  \\\n",
       "City                                                                \n",
       "Montreal            Italian Restaurant           Sushi Restaurant   \n",
       "Ottawa       Middle Eastern Restaurant         Mexican Restaurant   \n",
       "Halifax                     Steakhouse                  Gastropub   \n",
       "Toronto             Mexican Restaurant                 Steakhouse   \n",
       "Vancouver           Italian Restaurant          French Restaurant   \n",
       "Quebec City            Thai Restaurant           Sushi Restaurant   \n",
       "Calgary                     Steakhouse                      Diner   \n",
       "Edmonton              Asian Restaurant                  BBQ Joint   \n",
       "London              Chinese Restaurant            Thai Restaurant   \n",
       "Winnipeg         Vietnamese Restaurant          French Restaurant   \n",
       "\n",
       "            10th Most Common Food Venue  \n",
       "City                                     \n",
       "Montreal             Chinese Restaurant  \n",
       "Ottawa               Chinese Restaurant  \n",
       "Halifax                           Diner  \n",
       "Toronto                           Diner  \n",
       "Vancouver                     Gastropub  \n",
       "Quebec City                  Steakhouse  \n",
       "Calgary                    Burger Joint  \n",
       "Edmonton              Korean Restaurant  \n",
       "London                 Asian Restaurant  \n",
       "Winnipeg               Greek Restaurant  "
      ]
     },
     "execution_count": 14,
     "metadata": {},
     "output_type": "execute_result"
    }
   ],
   "source": [
    "venues_clustered = pd.read_csv('VenuesClustered.csv')\n",
    "venues_clustered.set_index('City', inplace = True)\n",
    "venues_clustered"
   ]
  },
  {
   "cell_type": "markdown",
   "metadata": {},
   "source": [
    "<a href=\"https://foursquare.com\"><img style=\"float: right;\" src=\"http://oi67.tinypic.com/n3olxu.jpg\" alt=\"drawing\" width=\"200\"/></a>"
   ]
  },
  {
   "cell_type": "markdown",
   "metadata": {},
   "source": [
    "  "
   ]
  },
  {
   "cell_type": "markdown",
   "metadata": {},
   "source": [
    "<div style=\"text-align: justify\">This Dataframe shows the top 10 most common population origins for each city, we removed the generalized origins leaving only the more specific. Removing \"British Isles\" and leaving \"English, Scottish\" etc, for example.</div>"
   ]
  },
  {
   "cell_type": "code",
   "execution_count": 13,
   "metadata": {},
   "outputs": [
    {
     "data": {
      "text/html": [
       "<div>\n",
       "<style scoped>\n",
       "    .dataframe tbody tr th:only-of-type {\n",
       "        vertical-align: middle;\n",
       "    }\n",
       "\n",
       "    .dataframe tbody tr th {\n",
       "        vertical-align: top;\n",
       "    }\n",
       "\n",
       "    .dataframe thead th {\n",
       "        text-align: right;\n",
       "    }\n",
       "</style>\n",
       "<table border=\"1\" class=\"dataframe\">\n",
       "  <thead>\n",
       "    <tr style=\"text-align: right;\">\n",
       "      <th></th>\n",
       "      <th>Population Origin Cluster Labels</th>\n",
       "      <th>1st Most Common Origin</th>\n",
       "      <th>2nd Most Common Origin</th>\n",
       "      <th>3rd Most Common Origin</th>\n",
       "      <th>4th Most Common Origin</th>\n",
       "      <th>5th Most Common Origin</th>\n",
       "      <th>6th Most Common Origin</th>\n",
       "      <th>7th Most Common Origin</th>\n",
       "      <th>8th Most Common Origin</th>\n",
       "      <th>9th Most Common Origin</th>\n",
       "      <th>10th Most Common Origin</th>\n",
       "    </tr>\n",
       "    <tr>\n",
       "      <th>City</th>\n",
       "      <th></th>\n",
       "      <th></th>\n",
       "      <th></th>\n",
       "      <th></th>\n",
       "      <th></th>\n",
       "      <th></th>\n",
       "      <th></th>\n",
       "      <th></th>\n",
       "      <th></th>\n",
       "      <th></th>\n",
       "      <th></th>\n",
       "    </tr>\n",
       "  </thead>\n",
       "  <tbody>\n",
       "    <tr>\n",
       "      <th>Montreal</th>\n",
       "      <td>0</td>\n",
       "      <td>Canadian</td>\n",
       "      <td>French</td>\n",
       "      <td>Italian</td>\n",
       "      <td>Irish</td>\n",
       "      <td>English</td>\n",
       "      <td>Haitian</td>\n",
       "      <td>Scottish</td>\n",
       "      <td>Chinese</td>\n",
       "      <td>Québécois</td>\n",
       "      <td>German</td>\n",
       "    </tr>\n",
       "    <tr>\n",
       "      <th>Quebec City</th>\n",
       "      <td>0</td>\n",
       "      <td>Canadian</td>\n",
       "      <td>French</td>\n",
       "      <td>Irish</td>\n",
       "      <td>Québécois</td>\n",
       "      <td>Scottish</td>\n",
       "      <td>English</td>\n",
       "      <td>German</td>\n",
       "      <td>Italian</td>\n",
       "      <td>Spanish</td>\n",
       "      <td>Belgian</td>\n",
       "    </tr>\n",
       "    <tr>\n",
       "      <th>Calgary</th>\n",
       "      <td>1</td>\n",
       "      <td>English</td>\n",
       "      <td>Canadian</td>\n",
       "      <td>Scottish</td>\n",
       "      <td>German</td>\n",
       "      <td>Irish</td>\n",
       "      <td>French</td>\n",
       "      <td>Chinese</td>\n",
       "      <td>Ukrainian</td>\n",
       "      <td>East Indian</td>\n",
       "      <td>Filipino</td>\n",
       "    </tr>\n",
       "    <tr>\n",
       "      <th>Edmonton</th>\n",
       "      <td>1</td>\n",
       "      <td>Canadian</td>\n",
       "      <td>English</td>\n",
       "      <td>German</td>\n",
       "      <td>Scottish</td>\n",
       "      <td>Irish</td>\n",
       "      <td>Ukrainian</td>\n",
       "      <td>French</td>\n",
       "      <td>Polish</td>\n",
       "      <td>East Indian</td>\n",
       "      <td>Chinese</td>\n",
       "    </tr>\n",
       "    <tr>\n",
       "      <th>Winnipeg</th>\n",
       "      <td>1</td>\n",
       "      <td>English</td>\n",
       "      <td>Canadian</td>\n",
       "      <td>Scottish</td>\n",
       "      <td>German</td>\n",
       "      <td>Ukrainian</td>\n",
       "      <td>Irish</td>\n",
       "      <td>French</td>\n",
       "      <td>Filipino</td>\n",
       "      <td>Polish</td>\n",
       "      <td>East Indian</td>\n",
       "    </tr>\n",
       "    <tr>\n",
       "      <th>Halifax</th>\n",
       "      <td>2</td>\n",
       "      <td>Canadian</td>\n",
       "      <td>English</td>\n",
       "      <td>Scottish</td>\n",
       "      <td>Irish</td>\n",
       "      <td>French</td>\n",
       "      <td>German</td>\n",
       "      <td>Dutch</td>\n",
       "      <td>Acadian</td>\n",
       "      <td>Welsh</td>\n",
       "      <td>Italian</td>\n",
       "    </tr>\n",
       "    <tr>\n",
       "      <th>Ottawa</th>\n",
       "      <td>2</td>\n",
       "      <td>Canadian</td>\n",
       "      <td>Irish</td>\n",
       "      <td>English</td>\n",
       "      <td>French</td>\n",
       "      <td>Scottish</td>\n",
       "      <td>German</td>\n",
       "      <td>Italian</td>\n",
       "      <td>Chinese</td>\n",
       "      <td>Polish</td>\n",
       "      <td>Dutch</td>\n",
       "    </tr>\n",
       "    <tr>\n",
       "      <th>London</th>\n",
       "      <td>2</td>\n",
       "      <td>English</td>\n",
       "      <td>Canadian</td>\n",
       "      <td>Scottish</td>\n",
       "      <td>Irish</td>\n",
       "      <td>German</td>\n",
       "      <td>French</td>\n",
       "      <td>Dutch</td>\n",
       "      <td>Italian</td>\n",
       "      <td>Polish</td>\n",
       "      <td>Portuguese</td>\n",
       "    </tr>\n",
       "    <tr>\n",
       "      <th>Toronto</th>\n",
       "      <td>3</td>\n",
       "      <td>Canadian</td>\n",
       "      <td>English</td>\n",
       "      <td>Chinese</td>\n",
       "      <td>East Indian</td>\n",
       "      <td>Irish</td>\n",
       "      <td>Scottish</td>\n",
       "      <td>Italian</td>\n",
       "      <td>Filipino</td>\n",
       "      <td>German</td>\n",
       "      <td>French</td>\n",
       "    </tr>\n",
       "    <tr>\n",
       "      <th>Vancouver</th>\n",
       "      <td>3</td>\n",
       "      <td>Chinese</td>\n",
       "      <td>English</td>\n",
       "      <td>Scottish</td>\n",
       "      <td>Canadian</td>\n",
       "      <td>Irish</td>\n",
       "      <td>East Indian</td>\n",
       "      <td>German</td>\n",
       "      <td>French</td>\n",
       "      <td>Filipino</td>\n",
       "      <td>Ukrainian</td>\n",
       "    </tr>\n",
       "  </tbody>\n",
       "</table>\n",
       "</div>"
      ],
      "text/plain": [
       "             Population Origin Cluster Labels 1st Most Common Origin  \\\n",
       "City                                                                   \n",
       "Montreal                                    0               Canadian   \n",
       "Quebec City                                 0               Canadian   \n",
       "Calgary                                     1                English   \n",
       "Edmonton                                    1               Canadian   \n",
       "Winnipeg                                    1                English   \n",
       "Halifax                                     2               Canadian   \n",
       "Ottawa                                      2               Canadian   \n",
       "London                                      2                English   \n",
       "Toronto                                     3               Canadian   \n",
       "Vancouver                                   3                Chinese   \n",
       "\n",
       "            2nd Most Common Origin 3rd Most Common Origin  \\\n",
       "City                                                        \n",
       "Montreal                    French                Italian   \n",
       "Quebec City                 French                  Irish   \n",
       "Calgary                   Canadian               Scottish   \n",
       "Edmonton                   English                 German   \n",
       "Winnipeg                  Canadian               Scottish   \n",
       "Halifax                    English               Scottish   \n",
       "Ottawa                       Irish                English   \n",
       "London                    Canadian               Scottish   \n",
       "Toronto                    English                Chinese   \n",
       "Vancouver                  English               Scottish   \n",
       "\n",
       "            4th Most Common Origin 5th Most Common Origin  \\\n",
       "City                                                        \n",
       "Montreal                     Irish                English   \n",
       "Quebec City              Québécois               Scottish   \n",
       "Calgary                     German                  Irish   \n",
       "Edmonton                  Scottish                  Irish   \n",
       "Winnipeg                    German              Ukrainian   \n",
       "Halifax                      Irish                 French   \n",
       "Ottawa                      French               Scottish   \n",
       "London                       Irish                 German   \n",
       "Toronto                East Indian                  Irish   \n",
       "Vancouver                 Canadian                  Irish   \n",
       "\n",
       "            6th Most Common Origin 7th Most Common Origin  \\\n",
       "City                                                        \n",
       "Montreal                   Haitian               Scottish   \n",
       "Quebec City                English                 German   \n",
       "Calgary                     French                Chinese   \n",
       "Edmonton                 Ukrainian                 French   \n",
       "Winnipeg                     Irish                 French   \n",
       "Halifax                     German                  Dutch   \n",
       "Ottawa                      German                Italian   \n",
       "London                      French                  Dutch   \n",
       "Toronto                   Scottish                Italian   \n",
       "Vancouver              East Indian                 German   \n",
       "\n",
       "            8th Most Common Origin 9th Most Common Origin  \\\n",
       "City                                                        \n",
       "Montreal                   Chinese              Québécois   \n",
       "Quebec City                Italian                Spanish   \n",
       "Calgary                  Ukrainian            East Indian   \n",
       "Edmonton                    Polish            East Indian   \n",
       "Winnipeg                  Filipino                 Polish   \n",
       "Halifax                    Acadian                  Welsh   \n",
       "Ottawa                     Chinese                 Polish   \n",
       "London                     Italian                 Polish   \n",
       "Toronto                   Filipino                 German   \n",
       "Vancouver                   French               Filipino   \n",
       "\n",
       "            10th Most Common Origin  \n",
       "City                                 \n",
       "Montreal                     German  \n",
       "Quebec City                 Belgian  \n",
       "Calgary                    Filipino  \n",
       "Edmonton                    Chinese  \n",
       "Winnipeg                East Indian  \n",
       "Halifax                     Italian  \n",
       "Ottawa                        Dutch  \n",
       "London                   Portuguese  \n",
       "Toronto                      French  \n",
       "Vancouver                 Ukrainian  "
      ]
     },
     "execution_count": 13,
     "metadata": {},
     "output_type": "execute_result"
    }
   ],
   "source": [
    "origins = pd.read_csv('originsclusters.csv')\n",
    "origins.set_index('City', inplace = True)\n",
    "origins"
   ]
  },
  {
   "cell_type": "markdown",
   "metadata": {},
   "source": [
    "  ------------------------------\n",
    "  "
   ]
  },
  {
   "cell_type": "markdown",
   "metadata": {},
   "source": [
    "## Results\n",
    "\n",
    "<div style=\"text-align: justify\">As seen on the above tables, we found the relation between the frequency of the types of food venues and how they relate with the data on population origins.</div>"
   ]
  },
  {
   "cell_type": "markdown",
   "metadata": {},
   "source": [
    "<div style=\"text-align: justify\">With K-means we clustered the cities in groups to find out those relationships.</div>"
   ]
  },
  {
   "cell_type": "markdown",
   "metadata": {},
   "source": [
    "<div style=\"text-align: justify\">Resulting in 4 clusters groups in both dataframes, we are able to see the similarities in those cities in terms of population origins and in the food scenery.</div>\n",
    "\n",
    "  ----------------------"
   ]
  },
  {
   "cell_type": "markdown",
   "metadata": {},
   "source": [
    "## Discussion (and more on Results)\n",
    "\n",
    "### Cities\n",
    "First we are going to discuss what the data may be able to tell us about these cities.\n",
    "\n",
    "----------------------"
   ]
  },
  {
   "cell_type": "markdown",
   "metadata": {},
   "source": [
    "#### Toronto and Vancouver\n",
    "\n"
   ]
  },
  {
   "cell_type": "markdown",
   "metadata": {},
   "source": [
    " \n",
    "\n"
   ]
  },
  {
   "cell_type": "markdown",
   "metadata": {},
   "source": [
    "<div style=\"text-align: justify\">Toronto and Vancouver are the only cities in the same cluster in both Food Venues and Population Origin.</div>"
   ]
  },
  {
   "cell_type": "markdown",
   "metadata": {},
   "source": [
    "<div style=\"text-align: justify\">They share 6 types of restaurants in their Food top 10s, and 8 in the Origins top 10, that is not the most between two cities on both Dataframes, but their same clusters are based on the strength of unique similarities.</div>"
   ]
  },
  {
   "cell_type": "markdown",
   "metadata": {},
   "source": [
    "* On population origins they are the only 2 cities with Chinese origins in the top 3 (3rd and 1st, the closest city is Calgary in 7th), as well as the only ones with East Indian Origins in the top 6 (4th and 6th, the closest cities are 9th).\n",
    "\n",
    "* On restaurants, they are the only two cities with Japanese restaurants in the top 2 (2nd and 1st) and having both Japanese and Sushi restaurants in the top 4 (4th and 2nd)."
   ]
  },
  {
   "cell_type": "markdown",
   "metadata": {},
   "source": [
    "<div style=\"text-align: justify\">On the data retrieved with the Foursquare API, Chinese and Indian restaurants do not appear on the top 10 most common on Toronto, besides being the second city in the list with most population with a Chinese origin (3rd biggest population) and the first on East Indian origin (4th biggest population), thus making this a good market for new Chinese or Indian restaurants.</div>\n",
    "\n",
    "----------------------------"
   ]
  },
  {
   "cell_type": "markdown",
   "metadata": {},
   "source": [
    "#### Calgary, Edmonton and Winnipeg\n",
    "\n"
   ]
  },
  {
   "cell_type": "markdown",
   "metadata": {},
   "source": [
    " \n",
    "\n"
   ]
  },
  {
   "cell_type": "markdown",
   "metadata": {},
   "source": [
    "<div style=\"text-align: justify\">These 3 cities are in the same cluster in both Origins and Food:</div>"
   ]
  },
  {
   "cell_type": "markdown",
   "metadata": {},
   "source": [
    "* They have 8 population origins in common in their top 10 (That is also the case with Halifax, Ottawa and London).\n",
    "\n",
    "* They are the only 3 cities with German origins in the top 4 (4th, 3rd, 4th) but no German restaurant in the top 10 of restaurants.\n",
    "\n",
    "* On food they have a great variety of types, with burger joints appearing in the top 4 (Winnipeg, the only city with Greek restaurants in the top 10), Edmonton being the only city with Korean restaurants and BBQ Joints on the top 10, and Calgary having Vietnamese, Italian and American restaurants in the top 4 and finishing in a North American fashion with Steakhouses, Diners and Burger Joints in the bottom 3."
   ]
  },
  {
   "cell_type": "markdown",
   "metadata": {},
   "source": [
    "<div style=\"text-align: justify\">Based on this information there is a market to be found for German restaurants and venues in those cities.</div>\n",
    "\n",
    "--------------------------"
   ]
  },
  {
   "cell_type": "markdown",
   "metadata": {},
   "source": [
    "#### Montreal and Quebec City"
   ]
  },
  {
   "cell_type": "markdown",
   "metadata": {},
   "source": [
    " "
   ]
  },
  {
   "cell_type": "markdown",
   "metadata": {},
   "source": [
    "<div style=\"text-align: justify\">Montreal and Quebec City are in the same cluster of Population Origins, since they are the only 2 cities with French origins in the top 2 on the list.</div>"
   ]
  },
  {
   "cell_type": "markdown",
   "metadata": {},
   "source": [
    "<div style=\"text-align: justify\">They also share the 1st spot in prevalent type of restaurants, both having French ones as the most common.</div>"
   ]
  },
  {
   "cell_type": "markdown",
   "metadata": {},
   "source": [
    "<div style=\"text-align: justify\">Nonetheless, Quebec City separates from Montreal (and all of the other cities) on clustering through food venues, even though the most common type of food is French as in Montreal, Quebec City comes with its Italian Restaurants with much more frequency (3rd, 8th in Montreal), Gastropubs and less Asian restaurants then Montreal.</div>\n",
    "\n",
    " ------------------------------"
   ]
  },
  {
   "cell_type": "markdown",
   "metadata": {},
   "source": [
    "### Food Style and Origins"
   ]
  },
  {
   "cell_type": "markdown",
   "metadata": {},
   "source": [
    "<div style=\"text-align: justify\">Now we can discuss the strength of the different food tradition and th role of the population origins based on the presented data.</div>\n",
    "\n",
    "-------------------"
   ]
  },
  {
   "cell_type": "markdown",
   "metadata": {},
   "source": [
    "#### Asian Food and Origin"
   ]
  },
  {
   "cell_type": "markdown",
   "metadata": {},
   "source": [
    "  "
   ]
  },
  {
   "cell_type": "markdown",
   "metadata": {},
   "source": [
    "<div style=\"text-align: justify\">Analysing the data it becomes apparent the strength of the Asian cuisine in Canada, this influence in backed up by the data on population origins:</div>"
   ]
  },
  {
   "cell_type": "markdown",
   "metadata": {},
   "source": [
    "* Asian Origins appear 15 times on the Origins Dataframe.\n",
    "\n",
    "* Asian food appears in 38 of the 100 types of most common types of restaurants on the Food Venues Dataframe."
   ]
  },
  {
   "cell_type": "markdown",
   "metadata": {},
   "source": [
    "<div style=\"text-align: justify\">By this data we can see the influence and market of Asian cuisine in Canada. All cities have Asian ethnical food on their top 10 most common food venues, with those venues appearing 38 times in a 100. By that we can see that there is a nice market for many styles of asian food in those cities.</div>"
   ]
  },
  {
   "cell_type": "markdown",
   "metadata": {},
   "source": [
    "<div style=\"text-align: justify\">That said, is clear the reflex of the Asian origins of Canadian population, and its preferences, on these cities restaurant scene.</div>\n",
    "\n",
    "----------------------------"
   ]
  },
  {
   "cell_type": "markdown",
   "metadata": {},
   "source": [
    "#### Italian Food and Origin"
   ]
  },
  {
   "cell_type": "markdown",
   "metadata": {},
   "source": [
    " "
   ]
  },
  {
   "cell_type": "markdown",
   "metadata": {},
   "source": [
    "<div style=\"text-align: justify\">The italian cuisine influence in the world is known, and through the data we can attest it in these cities as well as in their origins.</div>"
   ]
  },
  {
   "cell_type": "markdown",
   "metadata": {},
   "source": [
    "* All cities have Italian Restaurants and Pizza Places on their top 10.\n",
    "\n",
    "* Of 6 cities with Italian in the top 10 origins, all have Italian restaurants in the top 10 food venues (Halifax, London, Montreal, Ottawa, Quebec City and Toronto).\n",
    "\n",
    "* Of the 10 cities, 6 have Pizza Places and Italian Restaurants in their top 5 (Calgary, Edmonton, Halifax, London, Ottawa and Quebec City).\n",
    "\n",
    "* 4 cities have both venues in the top five and have Italian in the top 10 origins(Halifax, London, Ottawa and Quebec City)."
   ]
  },
  {
   "cell_type": "markdown",
   "metadata": {},
   "source": [
    "<div style=\"text-align: justify\">The data here confirms the big influence of Italian origins in the food of these cities.</div>\n",
    "\n",
    "---------------------------------"
   ]
  },
  {
   "cell_type": "markdown",
   "metadata": {},
   "source": [
    "#### Japanese Food and Origin"
   ]
  },
  {
   "cell_type": "markdown",
   "metadata": {},
   "source": [
    "  "
   ]
  },
  {
   "cell_type": "markdown",
   "metadata": {},
   "source": [
    "<div style=\"text-align: justify\">There is many Japanese and Japanese descendants in Canada, but they are not in the top 10 population origins in these cities.</div>"
   ]
  },
  {
   "cell_type": "markdown",
   "metadata": {},
   "source": [
    "<div style=\"text-align: justify\">That did not stop the Japanese Food being the most prevalent type of Asian cuisine in this analysis.</div>"
   ]
  },
  {
   "cell_type": "markdown",
   "metadata": {},
   "source": [
    "<div style=\"text-align: justify\">Japanese and Sushi Restaurants appear 12 times on the Food Venues data.</div>"
   ]
  },
  {
   "cell_type": "markdown",
   "metadata": {},
   "source": [
    "<div style=\"text-align: justify\">The only city without Japanese food on the top 10 is Edmonton, although it has 5 other types of asian food.</div>\n",
    "\n",
    "------------------------------------"
   ]
  },
  {
   "cell_type": "markdown",
   "metadata": {},
   "source": [
    "#### Indian Food and Origin"
   ]
  },
  {
   "cell_type": "markdown",
   "metadata": {},
   "source": [
    " "
   ]
  },
  {
   "cell_type": "markdown",
   "metadata": {},
   "source": [
    "<div style=\"text-align: justify\">There are 4 cities with Indian Restaurants in their top 10, and there are 5 cities with East Indian origins in their top 10, but only one city is in both of these, Vancouver.</div>"
   ]
  },
  {
   "cell_type": "markdown",
   "metadata": {},
   "source": [
    "<div style=\"text-align: justify\">Meaning that Calgary, Edmonton, Toronto and Winnipeg have a bigger population share with East Indian origins and less proportional number of Indian Restaurants than all the other 6 cities, being probably a good opportunity for a new Indian food business in those places.</div>\n",
    "\n",
    " -------------------------------"
   ]
  },
  {
   "cell_type": "markdown",
   "metadata": {},
   "source": [
    "## Conclusion"
   ]
  },
  {
   "cell_type": "markdown",
   "metadata": {},
   "source": [
    "<div style=\"text-align: justify\">As the data shows, the people origins in Canada have a strong impact on the prevalency of types of food venues in it's cities. As exemplified in cases as Montreal and Quebec City, where the french origins played a strong part on the prevalency of this type of food venue by being the most common type of food venue and the largest origin of the population in those cities after Canadian origins.</div>"
   ]
  },
  {
   "cell_type": "markdown",
   "metadata": {},
   "source": [
    "<div style=\"text-align: justify\">Toronto and Vancouver is our best example, where both food and people origins are similar, reflecting on the number of these types of food venues being predominant over other.</div>"
   ]
  },
  {
   "cell_type": "markdown",
   "metadata": {},
   "source": [
    "<div style=\"text-align: justify\">Still, by the data in this report we can see the strong influence of Asian cuisine in Canada. All cities have Asian ethnical food on their top 10 most common food venues, with those venues appearing 38 times in a 100. By that we can see that there is a nice market for many styles of asian food in those cities.</div>"
   ]
  },
  {
   "cell_type": "markdown",
   "metadata": {},
   "source": [
    "<div style=\"text-align: justify\">With that kind of data we can see which city has a strong population origin and how that relates to the restaurant scenery, and which cities may have a demand and / or a potential market for certain types of food categories.</div>"
   ]
  },
  {
   "cell_type": "markdown",
   "metadata": {},
   "source": [
    "<a href=\"https://foursquare.com\"><img style=\"float: right;\" src=\"http://oi67.tinypic.com/n3olxu.jpg\" alt=\"drawing\" width=\"200\"/></a>"
   ]
  }
 ],
 "metadata": {
  "kernelspec": {
   "display_name": "Python 3",
   "language": "python",
   "name": "python3"
  },
  "language_info": {
   "codemirror_mode": {
    "name": "ipython",
    "version": 3
   },
   "file_extension": ".py",
   "mimetype": "text/x-python",
   "name": "python",
   "nbconvert_exporter": "python",
   "pygments_lexer": "ipython3",
   "version": "3.7.0"
  }
 },
 "nbformat": 4,
 "nbformat_minor": 2
}
