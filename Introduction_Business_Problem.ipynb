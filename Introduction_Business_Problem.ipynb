{
 "cells": [
  {
   "cell_type": "markdown",
   "metadata": {},
   "source": [
    "# 10 Famous Cities of The American Continent Predominant Food Styles, A Data Analysis on The Restaurant Scenery and It's Demographic Influence."
   ]
  },
  {
   "cell_type": "markdown",
   "metadata": {},
   "source": [
    "By Francisco Tosetto da Silva"
   ]
  },
  {
   "cell_type": "markdown",
   "metadata": {},
   "source": [
    "For the entrepreneur / business person that is looking for a insight of a city food scenery, influences and preferences, or for the traveler that is looking for the famous, typical and / or traditional cuisine style on his destination, this analysis looks into the cuisine type scenery in venues of 10 famous cities in the American Continent."
   ]
  },
  {
   "cell_type": "markdown",
   "metadata": {},
   "source": [
    "This analysis focus on showing the top 3 most frequent styles of cuisine in restaurants from 10 famous cities located on the American Continent. To find out which types of cuisine are predominant in each place we look into around 100 food venues from these cities and see which types are more common. We also make an analysis on historical immigration data to find out the influences in the food scenery of these places."
   ]
  },
  {
   "cell_type": "markdown",
   "metadata": {},
   "source": [
    "This analysis utilyzes data from the free Foursquare Developer API."
   ]
  },
  {
   "cell_type": "markdown",
   "metadata": {},
   "source": [
    "Notebook by Francisco Tosetto da Silva, made for the Capstone Project of the IBM Data Science Professional Certificate."
   ]
  }
 ],
 "metadata": {
  "kernelspec": {
   "display_name": "Python 3",
   "language": "python",
   "name": "python3"
  },
  "language_info": {
   "codemirror_mode": {
    "name": "ipython",
    "version": 3
   },
   "file_extension": ".py",
   "mimetype": "text/x-python",
   "name": "python",
   "nbconvert_exporter": "python",
   "pygments_lexer": "ipython3",
   "version": "3.7.0"
  }
 },
 "nbformat": 4,
 "nbformat_minor": 2
}
